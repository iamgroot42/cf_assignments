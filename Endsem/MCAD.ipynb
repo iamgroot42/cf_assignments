{
 "cells": [
  {
   "cell_type": "code",
   "execution_count": 1,
   "metadata": {},
   "outputs": [],
   "source": [
    "import numpy as np\n",
    "import parser"
   ]
  },
  {
   "cell_type": "code",
   "execution_count": 2,
   "metadata": {
    "collapsed": true
   },
   "outputs": [],
   "source": [
    "def nmae(y, y_, minr=1, maxr=5):\n",
    "    denominator = np.count_nonzero(y.flatten())\n",
    "    return np.sum(np.absolute(y-y_))/(denominator * (maxr-minr))"
   ]
  },
  {
   "cell_type": "code",
   "execution_count": 3,
   "metadata": {
    "collapsed": true
   },
   "outputs": [],
   "source": [
    "def S(W, lambda_val):\n",
    "    U, S, V = np.linalg.svd(W, full_matrices=False)\n",
    "    S = np.maximum(S - lambda_val, 0)\n",
    "    S = np.diag(S)\n",
    "    return np.dot(U, np.dot(S, V))"
   ]
  },
  {
   "cell_type": "code",
   "execution_count": 4,
   "metadata": {},
   "outputs": [],
   "source": [
    "def MCAD(Y, lambda_val):\n",
    "    X = np.random.rand(*Y.shape) * 5\n",
    "    R = 1 * (Y!=0)\n",
    "    num_iters = 25\n",
    "    for i in range(num_iters):\n",
    "        B = X + Y - np.multiply(R, X)\n",
    "        U, S, V = np.linalg.svd(B, full_matrices=False)\n",
    "        objective = (np.linalg.norm(Y - np.multiply(R, X), ord='fro') ** 2) + (lambda_val * (np.sum(S)))\n",
    "        S_ = np.sign(S) * np.maximum(0, np.abs(S - lambda_val/2))\n",
    "        X = np.dot(U, np.dot(np.diag(S_), V))\n",
    "#         print objective\n",
    "    return X"
   ]
  },
  {
   "cell_type": "code",
   "execution_count": null,
   "metadata": {},
   "outputs": [],
   "source": [
    "def main():\n",
    "    dd = \"ml-100k/\"\n",
    "    movies = parser.load_data(dd + \"u.item\", parser.Movie, '|')\n",
    "    ratings = []\n",
    "    for i in range(1,1+5):\n",
    "        ratings.append( [parser.load_data(dd + \"u\" + str(i) + \".base\", parser.Rating, '\\t'), parser.load_data(dd + \"u\" + str(i) + \".test\", parser.Rating, '\\t')] )\n",
    "    users = parser.load_data(dd + \"u.user\", parser.User, '|')\n",
    "    lambda_values = [0.01, 0.1, 1, 10, 100]\n",
    "    for lambda_val in lambda_values: \n",
    "        errors = []\n",
    "        for fold in ratings:\n",
    "            #Transpose ratings to convert standard problem algorithm \n",
    "            R = parser.R_matrix(len(users), len(movies), fold[0])\n",
    "            R_test = parser.R_matrix(len(users), len(movies), fold[1])\n",
    "            R_recon = MCAD(R, lambda_val)\n",
    "            R_recon = R_recon * (R_test != 0)\n",
    "            errors.append(nmae(R_test, R_recon))\n",
    "        print(\"Lambda\",lambda_val,\", average NMAE over all folds:\", sum(errors)/len(errors)*1.0)\n"
   ]
  },
  {
   "cell_type": "code",
   "execution_count": null,
   "metadata": {},
   "outputs": [
    {
     "name": "stdout",
     "output_type": "stream",
     "text": [
      "('Lambda', 0.01, ', average NMAE over all folds:', 0.42714296756898767)\n"
     ]
    }
   ],
   "source": [
    "main()"
   ]
  },
  {
   "cell_type": "code",
   "execution_count": null,
   "metadata": {
    "collapsed": true
   },
   "outputs": [],
   "source": []
  }
 ],
 "metadata": {
  "kernelspec": {
   "display_name": "Python 2",
   "language": "python",
   "name": "python2"
  },
  "language_info": {
   "codemirror_mode": {
    "name": "ipython",
    "version": 2
   },
   "file_extension": ".py",
   "mimetype": "text/x-python",
   "name": "python",
   "nbconvert_exporter": "python",
   "pygments_lexer": "ipython2",
   "version": "2.7.6"
  }
 },
 "nbformat": 4,
 "nbformat_minor": 2
}
